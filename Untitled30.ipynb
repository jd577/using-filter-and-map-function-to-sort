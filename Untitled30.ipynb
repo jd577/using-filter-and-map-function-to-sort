{
 "cells": [
  {
   "cell_type": "code",
   "execution_count": 4,
   "id": "8ff30e7c-52ae-4370-8d3a-7c324ff1574f",
   "metadata": {},
   "outputs": [
    {
     "name": "stdout",
     "output_type": "stream",
     "text": [
      "-------\n",
      "[2, 4, 6, 8]\n",
      "[1, 3, 5, 7, 9]\n",
      "[]\n",
      "['two', 'four']\n",
      "--------\n",
      "['one', 'two', 'three']\n",
      "['88', '99', '102']\n",
      "-------\n"
     ]
    }
   ],
   "source": [
    "list1 = [1,2,3,4,5,6,7,8,9]\n",
    "even  = list(filter(lambda n: n%2 ==0 ,list1))\n",
    "odd   = list(filter(lambda n: n%2 !=0  ,list1))\n",
    "print('-------')\n",
    "print(even)\n",
    "print(odd)\n",
    "list2 = ['One','two','Three','four']\n",
    "upper = list(filter(lambda x:x.isupper() , list2))\n",
    "lower = list(filter(lambda x:x.islower() , list2))\n",
    "print(upper)\n",
    "print(lower)\n",
    "print('--------')\n",
    "list3 = ['one','two','three','88','99','102']\n",
    "numeric = list(filter(lambda x:x.isnumeric() , list3))\n",
    "alpha   = list(filter(lambda x:x.isalpha()   , list3))\n",
    "alphanum = list(filter(lambda x:x.isalnum()  , list3))\n",
    "print(alpha)\n",
    "print(numeric)\n",
    "print('-------')"
   ]
  },
  {
   "cell_type": "code",
   "execution_count": 5,
   "id": "a251096f-3183-4127-be22-c0201fcde58c",
   "metadata": {},
   "outputs": [
    {
     "name": "stdout",
     "output_type": "stream",
     "text": [
      "---------\n",
      "[2, 4, 6, 8]\n",
      "[6, 8, 10, 12]\n",
      "[1, 4, 9, 16]\n",
      "-------------\n",
      "[2, 4, 6, 8]\n",
      "[6, 8, 10, 12]\n",
      "[1, 4, 9, 16]\n",
      "--------------\n"
     ]
    }
   ],
   "source": [
    "list1 = [1,2,3,4]\n",
    "list2 = [5,6,7,8]\n",
    "def double(x):\n",
    "    return x+x\n",
    "def add(x,y):\n",
    "    return x+y\n",
    "def sqaure(x):\n",
    "    return x*x\n",
    "print('---------')\n",
    "print(list(map(double, list1)))\n",
    "print(list(map(add, list1, list2)))\n",
    "print(list(map(sqaure, list1)))\n",
    "\n",
    "print('-------------')\n",
    "print(list(map(lambda x:x + x,list1)))\n",
    "print(list(map(lambda x, y:x + y, list1,list2)))\n",
    "print(list(map(lambda x: x*x, list1)))\n",
    "print('--------------')\n"
   ]
  }
 ],
 "metadata": {
  "kernelspec": {
   "display_name": "Python 3 (ipykernel)",
   "language": "python",
   "name": "python3"
  },
  "language_info": {
   "codemirror_mode": {
    "name": "ipython",
    "version": 3
   },
   "file_extension": ".py",
   "mimetype": "text/x-python",
   "name": "python",
   "nbconvert_exporter": "python",
   "pygments_lexer": "ipython3",
   "version": "3.12.2"
  }
 },
 "nbformat": 4,
 "nbformat_minor": 5
}
